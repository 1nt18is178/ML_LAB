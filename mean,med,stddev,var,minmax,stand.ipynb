{
 "cells": [
  {
   "cell_type": "code",
   "execution_count": 1,
   "id": "bd7a0297",
   "metadata": {},
   "outputs": [],
   "source": [
    "nums = [115.3, 195.5, 120.5, 110.2, 90.4, 105.6, 110.9, 116.3, 122.3, 125.4]"
   ]
  },
  {
   "cell_type": "code",
   "execution_count": 10,
   "id": "5b5e5ca8",
   "metadata": {},
   "outputs": [
    {
     "name": "stdout",
     "output_type": "stream",
     "text": [
      "Mean: 121.24000000000001\n"
     ]
    }
   ],
   "source": [
    "mean = sum(nums)/len(nums)\n",
    "print(f\"Mean: {mean}\")"
   ]
  },
  {
   "cell_type": "code",
   "execution_count": 9,
   "id": "31c28334",
   "metadata": {},
   "outputs": [
    {
     "name": "stdout",
     "output_type": "stream",
     "text": [
      "Median: 116.3\n"
     ]
    }
   ],
   "source": [
    "temp = nums.copy()\n",
    "temp.sort()\n",
    "\n",
    "print(f\"Median: {temp[len(temp) // 2]}\")"
   ]
  },
  {
   "cell_type": "code",
   "execution_count": 5,
   "id": "f59e44e4",
   "metadata": {},
   "outputs": [
    {
     "name": "stdout",
     "output_type": "stream",
     "text": [
      "Variance: 701.7724\n",
      "Standard Deviation: 26.490987146574962\n"
     ]
    }
   ],
   "source": [
    "mean = sum(nums) / len(nums)\n",
    "\n",
    "squares = [((a - mean) ** 2) for a in nums]\n",
    "variance = sum(squares) / len(squares)\n",
    "\n",
    "print(f\"Variance: {variance}\")\n",
    "\n",
    "sd = variance ** 0.5\n",
    "\n",
    "print(f\"Standard Deviation: {sd}\")"
   ]
  },
  {
   "cell_type": "code",
   "execution_count": 11,
   "id": "e1b9278b",
   "metadata": {},
   "outputs": [
    {
     "name": "stdout",
     "output_type": "stream",
     "text": [
      "Normalised elements: [0.23691722169362506, 1.0, 0.2863939105613701, 0.18839200761179828, 0.0, 0.14462416745956222, 0.1950523311132255, 0.24643196955280677, 0.3035204567078972, 0.3330161750713606]\n"
     ]
    }
   ],
   "source": [
    "max_val = max(nums)\n",
    "min_val = min(nums)\n",
    "\n",
    "normalised_nums = [((n - min_val) / (max_val - min_val)) for n in nums]\n",
    "\n",
    "print(f\"Normalised elements: {normalised_nums}\")"
   ]
  },
  {
   "cell_type": "code",
   "execution_count": 7,
   "id": "8be899ea",
   "metadata": {},
   "outputs": [
    {
     "name": "stdout",
     "output_type": "stream",
     "text": [
      "Standardised elements: [110.72334910627612, 190.92334910627613, 115.92334910627612, 105.62334910627612, 85.82334910627613, 101.02334910627611, 106.32334910627613, 111.72334910627612, 117.72334910627612, 120.82334910627613]\n"
     ]
    }
   ],
   "source": [
    "std_nums = [(n - (mean / sd)) for n in nums]\n",
    "\n",
    "print(f\"Standardised elements: {std_nums}\")"
   ]
  },
  {
   "cell_type": "code",
   "execution_count": null,
   "id": "a0fb79f0",
   "metadata": {},
   "outputs": [],
   "source": []
  }
 ],
 "metadata": {
  "kernelspec": {
   "display_name": "Python 3 (ipykernel)",
   "language": "python",
   "name": "python3"
  },
  "language_info": {
   "codemirror_mode": {
    "name": "ipython",
    "version": 3
   },
   "file_extension": ".py",
   "mimetype": "text/x-python",
   "name": "python",
   "nbconvert_exporter": "python",
   "pygments_lexer": "ipython3",
   "version": "3.8.1"
  }
 },
 "nbformat": 4,
 "nbformat_minor": 5
}
