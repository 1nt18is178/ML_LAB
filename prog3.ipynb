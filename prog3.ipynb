{
 "cells": [
  {
   "cell_type": "code",
   "execution_count": 1,
   "metadata": {},
   "outputs": [],
   "source": [
    "import math\n",
    "import numpy as np\n",
    "import matplotlib.pyplot as plt\n",
    "import pandas as p\n",
    "\n",
    "#points\n",
    "points = np.array([[5.9,3.2],[4.6,2.9],[6.2,2.8],[4.7,3.2],[5.5,4.2],[5.0,3.0],[4.9,3.1],[6.7,3.1],[5.1,3.8],[6.0,3.0]])\n",
    "\n",
    "#centroids\n",
    "x1, y1 = 6.2, 3.2\n",
    "x2, y2 = 6.6, 3.7\n",
    "x3, y3 = 6.5, 3.0\n",
    "\n",
    "#clusters\n",
    "cluster1 = []\n",
    "cluster2 = []\n",
    "cluster3 = []"
   ]
  },
  {
   "cell_type": "markdown",
   "metadata": {},
   "source": [
    "## Defining Euclidean Distance function"
   ]
  },
  {
   "cell_type": "code",
   "execution_count": 2,
   "metadata": {},
   "outputs": [
    {
     "name": "stdout",
     "output_type": "stream",
     "text": [
      "Cluster 1: [[5.9, 3.2], [4.6, 2.9], [4.7, 3.2], [5.0, 3.0], [4.9, 3.1], [5.1, 3.8], [6.0, 3.0]]\n",
      "Cluster 2: [[5.5, 4.2]]\n",
      "Cluster 3: [[6.2, 2.8], [6.7, 3.1]]\n"
     ]
    }
   ],
   "source": [
    "def eucDistance(a , b):\n",
    "    d1 = math.sqrt((a - x1)**2 + (b - y1)**2)\n",
    "    d2 = math.sqrt((a - x2)**2 + (b - y2)**2)\n",
    "    d3 = math.sqrt((a - x3)**2 + (b - y3)**2)\n",
    "    \n",
    "    minDistance = min(d1 , d2 ,d3)\n",
    "    \n",
    "    \n",
    "    if minDistance == d1:\n",
    "        cluster1.append([a, b])\n",
    "    elif minDistance == d2:\n",
    "        cluster2.append([a, b])\n",
    "    else :\n",
    "        cluster3.append([a, b])\n",
    "        \n",
    "for i, j in points:\n",
    "    eucDistance(i , j)\n",
    "    \n",
    "print('Cluster 1:', cluster1)\n",
    "print('Cluster 2:', cluster2)\n",
    "print('Cluster 3:', cluster3)\n",
    "\n",
    "\n",
    "\n"
   ]
  },
  {
   "cell_type": "markdown",
   "metadata": {},
   "source": [
    "## Centroid of cluster 1 after 1st iteration "
   ]
  },
  {
   "cell_type": "code",
   "execution_count": 4,
   "metadata": {},
   "outputs": [
    {
     "name": "stdout",
     "output_type": "stream",
     "text": [
      "Centroid for cluster1 after 1st iteration: [5.171, 3.171]\n",
      "[5.5, 4.2] [6.45, 2.95]\n"
     ]
    }
   ],
   "source": [
    "def findcentroid(cluster):\n",
    "    sumx = 0\n",
    "    sumy = 0\n",
    "\n",
    "    for i, j in cluster:\n",
    "        sumx = sumx + i\n",
    "        sumy = sumy + j\n",
    "    \n",
    "    centX = round(sumx / len(cluster), 3)\n",
    "    centY = round(sumy / len(cluster), 3)\n",
    "    cent = [centX,centY]\n",
    "    return cent\n",
    "\n",
    "cent1 = findcentroid(cluster1)\n",
    "cent2 = findcentroid(cluster2)\n",
    "cent3 = findcentroid(cluster3)\n",
    "\n",
    "print('Centroid for cluster1 after 1st iteration:',cent1)\n",
    "print(cent2 , cent3)\n"
   ]
  },
  {
   "cell_type": "markdown",
   "metadata": {},
   "source": [
    "## Centroid of cluster 2 after 2nd iteration"
   ]
  },
  {
   "cell_type": "code",
   "execution_count": 5,
   "metadata": {},
   "outputs": [
    {
     "name": "stdout",
     "output_type": "stream",
     "text": [
      "Cluster 1: [[4.6, 2.9], [4.7, 3.2], [5.0, 3.0], [4.9, 3.1]]\n",
      "Cluster 2: [[5.5, 4.2], [5.1, 3.8]]\n",
      "Cluster 3: [[5.9, 3.2], [6.2, 2.8], [6.7, 3.1], [6.0, 3.0]]\n",
      "\n",
      "Centroid of cluster 2 after 2nd iteration: [5.3, 4.0]\n",
      "[4.8, 3.05] [6.2, 3.025]\n"
     ]
    }
   ],
   "source": [
    "#clear clusters for the next iteration\n",
    "cluster1 = []\n",
    "cluster2 = []\n",
    "cluster3 = []\n",
    "\n",
    "#initiali8ze centroid coordinates\n",
    "x1, y1 = cent1[0], cent1[1]\n",
    "x2, y2 = cent2[0], cent2[1]\n",
    "x3, y3 = cent3[0], cent3[1]\n",
    "\n",
    "# 2nd iteration\n",
    "for i, j in points:\n",
    "    eucDistance(i , j)\n",
    "    \n",
    "print('Cluster 1:', cluster1)\n",
    "print('Cluster 2:', cluster2)\n",
    "print('Cluster 3:', cluster3)\n",
    "\n",
    "#centroid of cluster2 after 2nd iteration\n",
    "\n",
    "cent1 = findcentroid(cluster1)\n",
    "cent2 = findcentroid(cluster2)\n",
    "cent3 = findcentroid(cluster3)\n",
    "\n",
    "print(\"\\nCentroid of cluster 2 after 2nd iteration:\", cent2)\n",
    "print(cent1 , cent3)\n"
   ]
  },
  {
   "cell_type": "code",
   "execution_count": null,
   "metadata": {},
   "outputs": [],
   "source": []
  }
 ],
 "metadata": {
  "kernelspec": {
   "display_name": "Python 3",
   "language": "python",
   "name": "python3"
  },
  "language_info": {
   "codemirror_mode": {
    "name": "ipython",
    "version": 3
   },
   "file_extension": ".py",
   "mimetype": "text/x-python",
   "name": "python",
   "nbconvert_exporter": "python",
   "pygments_lexer": "ipython3",
   "version": "3.8.5"
  }
 },
 "nbformat": 4,
 "nbformat_minor": 4
}
